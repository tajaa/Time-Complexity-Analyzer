{
 "cells": [
  {
   "cell_type": "code",
   "execution_count": 21,
   "metadata": {},
   "outputs": [],
   "source": [
    "import openai\n"
   ]
  },
  {
   "cell_type": "code",
   "execution_count": 22,
   "metadata": {},
   "outputs": [],
   "source": [
    "from dotenv import dotenv_values\n"
   ]
  },
  {
   "cell_type": "code",
   "execution_count": 23,
   "metadata": {},
   "outputs": [],
   "source": [
    "config = dotenv_values(\".env\")\n"
   ]
  },
  {
   "cell_type": "code",
   "execution_count": 24,
   "metadata": {},
   "outputs": [],
   "source": [
    "openai.api_key = config[\"OPENAI_API_KEY\"]\n"
   ]
  },
  {
   "cell_type": "code",
   "execution_count": 35,
   "metadata": {},
   "outputs": [],
   "source": [
    "func = ''' \n",
    "def remove_common_prefix(x, prefix, ws_prefix):\n",
    "    x[\"completion\"] = x[\"completion\"].str[len(prefix):]\n",
    "    if ws_prefix:\n",
    "        #keep the single whitespasce as prefix \n",
    "        x[\"completion\"] = \" \" + x[\"completion\"]\n",
    "return x\n",
    "'''\n",
    "\n",
    "messages = [\n",
    "    {\"role\": \"system\", \"content\": \"you are a python explaining assistant. Be explicit\"},\n",
    "    {\"role\": \"user\", \"content\": f\"explain the following function: {func}\"}\n",
    "]\n"
   ]
  },
  {
   "cell_type": "code",
   "execution_count": 36,
   "metadata": {},
   "outputs": [],
   "source": [
    "res = openai.ChatCompletion.create(\n",
    "    messages=messages,\n",
    "    model=\"gpt-3.5-turbo\"\n",
    ")\n"
   ]
  },
  {
   "cell_type": "code",
   "execution_count": 37,
   "metadata": {},
   "outputs": [
    {
     "name": "stdout",
     "output_type": "stream",
     "text": [
      "This is a Python function called \"remove_common_prefix\". It takes three arguments: \"x\", \"prefix\", and \"ws_prefix\". \n",
      "\n",
      "The argument \"x\" is expected to be a pandas DataFrame, as it accesses the column \"completion\" from it. The \"prefix\" argument is a string that represents the common prefix to remove from the completion column. The \"ws_prefix\" is a boolean that indicates whether we want to keep a single whitespace character as a prefix after removing the common prefix.\n",
      "\n",
      "The function first removes the common prefix from the \"completion\" column by using the Pandas string method \"str[len(prefix):]\", which returns a substring of the text starting from the length of the prefix to the end. Then, if \"ws_prefix\" is True, it adds a single whitespace character as a prefix to each row's \"completion\" column.\n",
      "\n",
      "Finally, the function returns the modified \"x\" DataFrame.\n"
     ]
    }
   ],
   "source": [
    "print(res[\"choices\"][0][\"message\"][\"content\"])\n"
   ]
  },
  {
   "attachments": {},
   "cell_type": "markdown",
   "metadata": {},
   "source": [
    "## Time Complexities\n"
   ]
  },
  {
   "attachments": {},
   "cell_type": "markdown",
   "metadata": {},
   "source": []
  },
  {
   "cell_type": "code",
   "execution_count": 28,
   "metadata": {},
   "outputs": [],
   "source": [
    "bubble_sort = ''' \n",
    "def sort(array):\n",
    "    for i in range(len(array)):\n",
    "        for j in range(0, len(array)-i-1):\n",
    "            if array[j]>array[j+1]:\n",
    "                temp =array[j]\n",
    "                array[j]= array[j+1]\n",
    "                array[j+1] = temp \n",
    "'''\n"
   ]
  },
  {
   "cell_type": "code",
   "execution_count": 29,
   "metadata": {},
   "outputs": [],
   "source": [
    "quick_sort = '''\n",
    "def partiion(array, low, high):\n",
    "    pivot = array[high]\n",
    "    i = low -1 \n",
    "\n",
    "    for j in range(low, high):\n",
    "        if array[j] <= pivot:\n",
    "            i = i + 1\n",
    "            (array[i], array[j]) = (array[j], array[i])\n",
    "    (array[i+1], array[high]) = (array[high], array[i+1])\n",
    "    return i + 1\n",
    "\n",
    "def sort(array, low, high):\n",
    "    if low < high:\n",
    "        pi = partition(array, low, high)\n",
    "        sort(array, low, pi-1)\n",
    "        sort(array, pi+1, high)\n",
    "'''\n"
   ]
  },
  {
   "cell_type": "code",
   "execution_count": 30,
   "metadata": {},
   "outputs": [],
   "source": [
    "messages = [\n",
    "    {\"role\": \"user\", \"content\": f\"Calculate the time complexity of the following function: {bubble_sort}\"}\n",
    "]\n"
   ]
  },
  {
   "cell_type": "code",
   "execution_count": 32,
   "metadata": {},
   "outputs": [
    {
     "name": "stdout",
     "output_type": "stream",
     "text": [
      "The time complexity of the given function is O(n^2), where n is the length of the input array.\n",
      "\n",
      "The outer loop iterates over the entire array once, so it has a time complexity of O(n).\n",
      "\n",
      "The inner loop iterates over the entire array except for the last i elements, where i is the index of the current iteration of the outer loop. On average, this loop will iterate n/2 times, so it has a time complexity of O(n/2), which is equivalent to O(n).\n",
      "\n",
      "The operations inside the inner loop (comparison and swap) are constant time operations, so their time complexity is O(1).\n",
      "\n",
      "Combining these time complexity analyses, we get:\n",
      "\n",
      "- The outer loop has a time complexity of O(n).\n",
      "- The inner loop has a time complexity of O(n).\n",
      "- The operations inside the inner loop have a time complexity of O(1).\n",
      "\n",
      "Therefore, the overall time complexity of the function is O(n^2).\n"
     ]
    }
   ],
   "source": [
    "res2 = openai.ChatCompletion.create(\n",
    "    messages=messages,\n",
    "    model=\"gpt-3.5-turbo\"\n",
    ")\n",
    "print(res2[\"choices\"][0][\"message\"][\"content\"])\n"
   ]
  },
  {
   "cell_type": "code",
   "execution_count": 33,
   "metadata": {},
   "outputs": [],
   "source": [
    "messages = [\n",
    "    {\"role\": \"user\", \"content\": f\"Calculate the time complexity of the following function: {quick_sort}\"}\n",
    "]\n"
   ]
  },
  {
   "cell_type": "code",
   "execution_count": 34,
   "metadata": {},
   "outputs": [
    {
     "name": "stdout",
     "output_type": "stream",
     "text": [
      "The time complexity of the partition function is O(n), where n is the length of the array. The for loop runs n-1 times, and each operation within the loop takes constant time.\n",
      "\n",
      "The time complexity of the sort function is O(n*log(n)), where n is the length of the array. This is because the function recursively divides the array into smaller arrays, each of size at most n-1, and then sorts each sub-array using the partition function. The number of recursive calls is log(n) (base 2), as each call splits the array in half. Therefore, the time complexity of sort function can be expressed as O(n*log(n)).\n",
      "\n",
      "Overall, the time complexity of the entire code is O(n*log(n)), which is dominated by the time complexity of the sort function.\n"
     ]
    }
   ],
   "source": [
    "res3 = openai.ChatCompletion.create(\n",
    "    messages=messages,\n",
    "    model=\"gpt-3.5-turbo\"\n",
    ")\n",
    "print(res3[\"choices\"][0][\"message\"][\"content\"])\n"
   ]
  }
 ],
 "metadata": {
  "kernelspec": {
   "display_name": "ai_env",
   "language": "python",
   "name": "python3"
  },
  "language_info": {
   "codemirror_mode": {
    "name": "ipython",
    "version": 3
   },
   "file_extension": ".py",
   "mimetype": "text/x-python",
   "name": "python",
   "nbconvert_exporter": "python",
   "pygments_lexer": "ipython3",
   "version": "3.9.7"
  },
  "orig_nbformat": 4
 },
 "nbformat": 4,
 "nbformat_minor": 2
}
